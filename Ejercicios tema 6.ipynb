{
 "cells": [
  {
   "cell_type": "markdown",
   "metadata": {},
   "source": [
    "1. Haz un programa que cree una función en Python que dada una secuencia devuelva únicamente los números pares."
   ]
  },
  {
   "cell_type": "markdown",
   "metadata": {},
   "source": [
    "```\n",
    "\n",
    "Input: [5, 7, 3, 4, 2, 1]\n",
    "    \n",
    "Output: [4, 2]\n",
    "    \n",
    "```"
   ]
  },
  {
   "cell_type": "code",
   "execution_count": 4,
   "metadata": {},
   "outputs": [
    {
     "name": "stdout",
     "output_type": "stream",
     "text": [
      "[4, 2]\n"
     ]
    }
   ],
   "source": [
    "def get_pair(l):\n",
    "    s = []\n",
    "    for e in l:\n",
    "        if e % 2 == 0:\n",
    "            s.append(e)\n",
    "    return s\n",
    "\n",
    "l = [5, 7, 3, 4, 2, 1]\n",
    "s = get_pair(l)\n",
    "print(s)"
   ]
  },
  {
   "cell_type": "markdown",
   "metadata": {},
   "source": [
    "2. Haz un programa que cree una función con longitud variable de argumentos."
   ]
  },
  {
   "cell_type": "markdown",
   "metadata": {},
   "source": [
    "```\n",
    "\n",
    "Input: func1(20, 40, 60)\n",
    "    \n",
    "Output:\n",
    "\n",
    "20\n",
    "40\n",
    "60\n",
    "    \n",
    "```"
   ]
  },
  {
   "cell_type": "code",
   "execution_count": 5,
   "metadata": {},
   "outputs": [
    {
     "name": "stdout",
     "output_type": "stream",
     "text": [
      "20\n",
      "40\n",
      "60\n"
     ]
    }
   ],
   "source": [
    "def func1(*args):\n",
    "    for i in args:\n",
    "        print(i)\n",
    "\n",
    "func1(20, 40, 60)"
   ]
  },
  {
   "cell_type": "markdown",
   "metadata": {},
   "source": [
    "3. Haz un programa que devuelva múltiples valores desde una función.\n",
    "Crea la función calculaion() de modo que pueda aceptar dos variables y calcular sumas y restas. Además, debe devolver tanto la suma como la resta en una sola llamada."
   ]
  },
  {
   "cell_type": "markdown",
   "metadata": {},
   "source": [
    "```\n",
    "\n",
    "Input: 40 10\n",
    "    \n",
    "Output: 50 30\n",
    "    \n",
    "```"
   ]
  },
  {
   "cell_type": "code",
   "execution_count": 1,
   "metadata": {},
   "outputs": [
    {
     "name": "stdout",
     "output_type": "stream",
     "text": [
      "(50, 30)\n"
     ]
    }
   ],
   "source": [
    "def calculation(a, b):\n",
    "    addition = a + b\n",
    "    subtraction = a - b\n",
    "    return addition, subtraction\n",
    "\n",
    "res = calculation(40, 10)\n",
    "print(res)"
   ]
  },
  {
   "cell_type": "markdown",
   "metadata": {},
   "source": [
    "4. Haz un programa que cree una función con un argumento por defecto.\n",
    "Crea una función show_employee() usando las siguientes condiciones.\n",
    "\n",
    "-Debe aceptar el nombre y el salario del empleado y mostrar ambos.\n",
    "\n",
    "-Si falta el salario en la llamada de función, asigne el valor predeterminado 9000 al salario."
   ]
  },
  {
   "cell_type": "markdown",
   "metadata": {},
   "source": [
    "```\n",
    "\n",
    "Input:\n",
    "    \n",
    "showEmployee(\"Ben\", 12000)\n",
    "showEmployee(\"Jessa\")\n",
    "\n",
    "Output:\n",
    "\n",
    "Name: Ben salary: 12000\n",
    "Name: Jessa salary: 9000\n",
    "    \n",
    "```"
   ]
  },
  {
   "cell_type": "code",
   "execution_count": 2,
   "metadata": {},
   "outputs": [
    {
     "name": "stdout",
     "output_type": "stream",
     "text": [
      "Name: Ben salary: 12000\n",
      "Name: Jessa salary: 9000\n"
     ]
    }
   ],
   "source": [
    "def show_employee(name, salary=9000):\n",
    "    print(\"Name:\", name, \"salary:\", salary)\n",
    "\n",
    "show_employee(\"Ben\", 12000)\n",
    "show_employee(\"Jessa\")"
   ]
  },
  {
   "cell_type": "markdown",
   "metadata": {},
   "source": [
    "5. Haz un programa que cree una función interna para calcular la suma de la siguiente manera: Crea una función externa que acepte dos parámetros, a y b. Crea una función interna dentro de una función externa que calculará la suma de a y b. Por último, una función externa que sumará 5 en la suma y la devolverá.\n"
   ]
  },
  {
   "cell_type": "markdown",
   "metadata": {},
   "source": [
    "```\n",
    "\n",
    "Input: 5 10\n",
    "    \n",
    "Output: 20\n",
    "    \n",
    "```"
   ]
  },
  {
   "cell_type": "code",
   "execution_count": 3,
   "metadata": {},
   "outputs": [
    {
     "name": "stdout",
     "output_type": "stream",
     "text": [
      "20\n"
     ]
    }
   ],
   "source": [
    "# outer function\n",
    "def outer_fun(a, b):\n",
    "    square = a ** 2\n",
    "\n",
    "    # inner function\n",
    "    def addition(a, b):\n",
    "        return a + b\n",
    "\n",
    "    # llama a la inner function desde la outer function\n",
    "    add = addition(a, b)\n",
    "\n",
    "    return add + 5\n",
    "\n",
    "result = outer_fun(5, 10)\n",
    "print(result)"
   ]
  },
  {
   "cell_type": "markdown",
   "metadata": {},
   "source": [
    "6. Haz un que cree una función que escriba el cuadrado y la raíz cuadrada de una secuencia de naturales.\n"
   ]
  },
  {
   "cell_type": "markdown",
   "metadata": {},
   "source": [
    "```\n",
    "\n",
    "Input: [10, 4, 1, 15]\n",
    "    \n",
    "Output:\n",
    "\n",
    "[100, 16, 1, 225]\n",
    "\n",
    "[3.1622776601683795, 2.0, 1.0, 3.872983346207417]\n",
    "\n",
    "    \n",
    "```"
   ]
  },
  {
   "cell_type": "code",
   "execution_count": 8,
   "metadata": {},
   "outputs": [
    {
     "name": "stdout",
     "output_type": "stream",
     "text": [
      "[100, 16, 1, 225]\n",
      "[3.1622776601683795, 2.0, 1.0, 3.872983346207417]\n"
     ]
    }
   ],
   "source": [
    "import math\n",
    "\n",
    "def compute_square(l):\n",
    "    s = []\n",
    "    for e in l:\n",
    "        s.append(pow(e, 2))\n",
    "    return s\n",
    "\n",
    "def compute_sqrt(l):\n",
    "    s = []\n",
    "    for e in l:\n",
    "        s.append(math.sqrt(e))\n",
    "    return s\n",
    "\n",
    "l = [10, 4, 1, 15]\n",
    "\n",
    "squares = compute_square(l)\n",
    "sqrts = compute_sqrt(l)\n",
    "\n",
    "print(squares)\n",
    "print(sqrts)"
   ]
  },
  {
   "cell_type": "markdown",
   "metadata": {},
   "source": [
    "7. Haz un programa que cree una función que deje a, b y c ordenados de pequeño a grande. Por ejemplo, si a =7, b = −3 y c = 1, los valores después de la llamada deben ser a =−3, b = 1 y c = 7.\n"
   ]
  },
  {
   "cell_type": "markdown",
   "metadata": {},
   "source": [
    "```\n",
    "\n",
    "Input: 7 -3 1\n",
    "    \n",
    "Output: -3 1 7\n",
    "    \n",
    "```"
   ]
  },
  {
   "cell_type": "code",
   "execution_count": 9,
   "metadata": {},
   "outputs": [
    {
     "name": "stdout",
     "output_type": "stream",
     "text": [
      "[-3, 1, 7]\n"
     ]
    }
   ],
   "source": [
    "l = [7, -3, 1]\n",
    "\n",
    "def sort_list(l):\n",
    "    l.sort()\n",
    "    return l\n",
    "\n",
    "print(sort_list(l))"
   ]
  }
 ],
 "metadata": {
  "kernelspec": {
   "display_name": "Python 3",
   "language": "python",
   "name": "python3"
  },
  "language_info": {
   "codemirror_mode": {
    "name": "ipython",
    "version": 3
   },
   "file_extension": ".py",
   "mimetype": "text/x-python",
   "name": "python",
   "nbconvert_exporter": "python",
   "pygments_lexer": "ipython3",
   "version": "3.7.3"
  }
 },
 "nbformat": 4,
 "nbformat_minor": 2
}
